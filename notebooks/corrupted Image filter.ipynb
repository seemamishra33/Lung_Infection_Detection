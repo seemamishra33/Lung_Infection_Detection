{
 "cells": [
  {
   "cell_type": "code",
   "execution_count": 2,
   "metadata": {
    "collapsed": true
   },
   "outputs": [],
   "source": [
    "'''provides functions for creating and removing a directory (folder),\n",
    "fetching its contents, changing and identifying the current directory'''\n",
    "import os \n",
    "import tensorflow as tf"
   ]
  },
  {
   "cell_type": "code",
   "execution_count": 3,
   "metadata": {
    "collapsed": false
   },
   "outputs": [
    {
     "name": "stdout",
     "output_type": "stream",
     "text": [
      "Deleted 0 images\n"
     ]
    }
   ],
   "source": [
    "num_skipped = 0 \n",
    "for folder_name in (\"healthy\", \"Type 1 disease\", \"Type 2 disease\"):\n",
    "    for train_test in (\"train\", \"test\"):\n",
    "        folder_path1 = os.path.join('../data/processed/data_Lung_Infection/', train_test)\n",
    "        folder_path2 = os.path.join(folder_path1, folder_name)\n",
    "        for fname in os.listdir(folder_path2):\n",
    "            fpath = os.path.join(folder_path2, fname)\n",
    "            try:\n",
    "                fobj = open(fpath, \"rb\")\n",
    "                is_jfif = tf.compat.as_bytes(\"JFIF\") in fobj.peek(10)\n",
    "            finally:\n",
    "                fobj.close()\n",
    "            if not is_jfif:\n",
    "                num_skipped += 1\n",
    "                #deleted corrupted images\n",
    "                os.remove(fpath) \n",
    "print(\"Deleted %d images\" % num_skipped)           "
   ]
  },
  {
   "cell_type": "code",
   "execution_count": null,
   "metadata": {
    "collapsed": true
   },
   "outputs": [],
   "source": []
  }
 ],
 "metadata": {
  "kernelspec": {
   "display_name": "python 3.10(tensor_env)",
   "language": "python",
   "name": "tensorflow"
  },
  "language_info": {
   "codemirror_mode": {
    "name": "ipython",
    "version": 3
   },
   "file_extension": ".py",
   "mimetype": "text/x-python",
   "name": "python",
   "nbconvert_exporter": "python",
   "pygments_lexer": "ipython3",
   "version": "3.10.5"
  }
 },
 "nbformat": 4,
 "nbformat_minor": 1
}
