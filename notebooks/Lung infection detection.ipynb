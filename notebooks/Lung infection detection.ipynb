{
 "cells": [
  {
   "cell_type": "code",
   "execution_count": 16,
   "metadata": {
    "collapsed": false
   },
   "outputs": [],
   "source": [
    "import tensorflow as tf\n",
    "from tensorflow import keras\n",
    "import os\n",
    "from glob import glob\n",
    "import matplotlib.pyplot as plt"
   ]
  },
  {
   "cell_type": "markdown",
   "metadata": {},
   "source": []
  },
  {
   "cell_type": "code",
   "execution_count": 4,
   "metadata": {
    "collapsed": true
   },
   "outputs": [],
   "source": [
    "# Set the training path and validation path\n",
    "\n",
    "train_path = '../data/processed/data_Lung_Infection/train/'\n",
    "validation_path = '../data/processed/data_Lung_Infection/test/'"
   ]
  },
  {
   "cell_type": "code",
   "execution_count": 5,
   "metadata": {
    "collapsed": false
   },
   "outputs": [
    {
     "data": {
      "text/plain": [
       "['Type 1 disease', '.DS_Store', 'Healthy', 'Type 2 disease']"
      ]
     },
     "execution_count": 5,
     "metadata": {},
     "output_type": "execute_result"
    }
   ],
   "source": [
    "os.listdir(train_path)"
   ]
  },
  {
   "cell_type": "markdown",
   "metadata": {},
   "source": [
    "## Image Vidualization"
   ]
  },
  {
   "cell_type": "code",
   "execution_count": 14,
   "metadata": {
    "collapsed": false
   },
   "outputs": [
    {
     "name": "stdout",
     "output_type": "stream",
     "text": [
      "Training set:\n",
      "------------\n",
      "Healthy= 70\n",
      "num_Type1= 102\n",
      "num_Type1= 70\n",
      "\n",
      "\n",
      "Validation set:\n",
      "------------\n",
      "Healthy= 20\n",
      "num_Type1= 23\n",
      "num_Type1= 20\n"
     ]
    }
   ],
   "source": [
    "print(\"Training set:\\n------------\")\n",
    "\n",
    "num_Healthy = len(os.listdir(os.path.join(train_path, 'Healthy')))\n",
    "num_Type1 = len(os.listdir(os.path.join(train_path, 'Type 1 disease')))\n",
    "num_Type2 = len(os.listdir(os.path.join(train_path, 'Type 2 disease')))\n",
    "print(f\"Healthy= {num_Healthy}\")\n",
    "print(f\"num_Type1= {num_Type1}\")\n",
    "print(f\"num_Type1= {num_Type2}\")\n",
    "\n",
    "print(\"\\n\")\n",
    "\n",
    "print(\"Validation set:\\n------------\")\n",
    "\n",
    "num_Healthy = len(os.listdir(os.path.join(validation_path, 'Healthy')))\n",
    "num_Type1 = len(os.listdir(os.path.join(validation_path, 'Type 1 disease')))\n",
    "num_Type2 = len(os.listdir(os.path.join(validation_path, 'Type 2 disease')))\n",
    "print(f\"Healthy= {num_Healthy}\")\n",
    "print(f\"num_Type1= {num_Type1}\")\n",
    "print(f\"num_Type1= {num_Type2}\")\n"
   ]
  },
  {
   "cell_type": "code",
   "execution_count": 40,
   "metadata": {
    "collapsed": false
   },
   "outputs": [
    {
     "name": "stdout",
     "output_type": "stream",
     "text": [
      "../data/processed/data_Lung_Infection/train/healthy\n",
      "../data/processed/data_Lung_Infection/train/Type 1 disease\n",
      "../data/processed/data_Lung_Infection/train/Type 2 disease\n"
     ]
    }
   ],
   "source": [
    "for folder_name in (\"healthy\", \"Type 1 disease\", \"Type 2 disease\"):\n",
    "    folder_path = os.path.join(train_path, folder_name)\n",
    "    print(folder_path)\n",
    "        #for fname in os.listdir(folder_path2):\n",
    "            #print(fname)\n",
    "            #img = plt.imread(fname)\n",
    "            #plt.imshow(img, cmap = 'gray')\n",
    "            "
   ]
  },
  {
   "cell_type": "code",
   "execution_count": null,
   "metadata": {
    "collapsed": true
   },
   "outputs": [],
   "source": []
  },
  {
   "cell_type": "code",
   "execution_count": 18,
   "metadata": {
    "collapsed": true
   },
   "outputs": [],
   "source": [
    "#Initialize Glob to interact with storage\n",
    "\n",
    "image_files = glob(train_path +'/*/*.jp*g')\n",
    "valid_image_files = glob(validation_path +'/*/*.jp*g')"
   ]
  },
  {
   "cell_type": "markdown",
   "metadata": {},
   "source": []
  },
  {
   "cell_type": "code",
   "execution_count": 6,
   "metadata": {
    "collapsed": false
   },
   "outputs": [],
   "source": [
    "#Preprocessing --- Goal to make the data compatible for CNN input\n",
    "# In tensorflow, you can achieve the same using ImageGenerators\n",
    "\n",
    "\n",
    "train_generator = tf.keras.preprocessing.image.ImageDataGenerator(rescale= 1.0/255.,\n",
    "                                                                  rotation_range=90,\n",
    "                                                                  zoom_range=0.2,\n",
    "                                                                  horizontal_flip=True,\n",
    "                                                                  vertical_flip=True)\n",
    "\n",
    "test_generator = tf.keras.preprocessing.image.ImageDataGenerator(rescale= 1.0/255.)"
   ]
  },
  {
   "cell_type": "code",
   "execution_count": 7,
   "metadata": {
    "collapsed": false
   },
   "outputs": [
    {
     "name": "stdout",
     "output_type": "stream",
     "text": [
      "Found 242 images belonging to 3 classes.\n",
      "Found 63 images belonging to 3 classes.\n"
     ]
    }
   ],
   "source": [
    "#Pass the images through the generator\n",
    "\n",
    "trainImageData = train_generator.flow_from_directory(train_path,\n",
    "                                                     batch_size=32, #how many images to give per iteration in an epoch\n",
    "                                                     class_mode=\"categorical\", #Incase of multi-class classification, \"categorical\"\n",
    "                                                     target_size=(64,64) #Ensures all images are of same size (resizing)\n",
    "                                                     ) \n",
    "\n",
    "\n",
    "testImageData = test_generator.flow_from_directory(validation_path,\n",
    "                                                     batch_size=32, #how many images to give per iteration in an epoch\n",
    "                                                     class_mode=\"categorical\", #Incase of multi-class classification, \"categorical\"\n",
    "                                                     target_size=(64,64) #Ensures all images are of same size (resizing)\n",
    "                                                     ) "
   ]
  },
  {
   "cell_type": "code",
   "execution_count": 8,
   "metadata": {
    "collapsed": false
   },
   "outputs": [
    {
     "name": "stdout",
     "output_type": "stream",
     "text": [
      "(64, 64, 3)\n",
      "(64, 64, 3)\n"
     ]
    }
   ],
   "source": [
    "print(trainImageData.image_shape)\n",
    "print(testImageData.image_shape)"
   ]
  },
  {
   "cell_type": "code",
   "execution_count": 15,
   "metadata": {
    "collapsed": false
   },
   "outputs": [
    {
     "data": {
      "text/plain": [
       "{'Healthy': 0, 'Type 1 disease': 1, 'Type 2 disease': 2}"
      ]
     },
     "execution_count": 15,
     "metadata": {},
     "output_type": "execute_result"
    }
   ],
   "source": [
    "trainImageData.class_indices\n"
   ]
  },
  {
   "cell_type": "code",
   "execution_count": 17,
   "metadata": {
    "collapsed": false
   },
   "outputs": [],
   "source": [
    "#trainImageData.filenames"
   ]
  },
  {
   "cell_type": "code",
   "execution_count": 22,
   "metadata": {
    "collapsed": false
   },
   "outputs": [
    {
     "ename": "TypeError",
     "evalue": "unhashable type: 'numpy.ndarray'",
     "output_type": "error",
     "traceback": [
      "\u001b[0;31m---------------------------------------------------------------------------\u001b[0m",
      "\u001b[0;31mTypeError\u001b[0m                                 Traceback (most recent call last)",
      "Input \u001b[0;32mIn [22]\u001b[0m, in \u001b[0;36m<cell line: 4>\u001b[0;34m()\u001b[0m\n\u001b[1;32m      6\u001b[0m ax\u001b[38;5;241m=\u001b[39mplt\u001b[38;5;241m.\u001b[39msubplot(\u001b[38;5;241m6\u001b[39m,\u001b[38;5;241m6\u001b[39m,i\u001b[38;5;241m+\u001b[39m\u001b[38;5;241m1\u001b[39m)\n\u001b[1;32m      7\u001b[0m plt\u001b[38;5;241m.\u001b[39mimshow(images[i])\n\u001b[0;32m----> 8\u001b[0m plt\u001b[38;5;241m.\u001b[39mtitle(\u001b[43mclass_names\u001b[49m\u001b[43m[\u001b[49m\u001b[43mlabels\u001b[49m\u001b[43m[\u001b[49m\u001b[43mi\u001b[49m\u001b[43m]\u001b[49m\u001b[43m]\u001b[49m)\n",
      "\u001b[0;31mTypeError\u001b[0m: unhashable type: 'numpy.ndarray'"
     ]
    },
    {
     "data": {
      "image/png": "[encoded data removed]",
      "text/plain": [
       "<Figure size 1080x1080 with 1 Axes>"
      ]
     },
     "metadata": {
      "needs_background": "light"
     },
     "output_type": "display_data"
    }
   ],
   "source": [
    "plt.figure(figsize=(15,15))\n",
    "class_names = trainImageData.class_indices\n",
    "\n",
    "for images,labels in trainImageData:\n",
    "    for i in range(32):\n",
    "        ax=plt.subplot(6,6,i+1)\n",
    "        plt.imshow(images[i])\n",
    "        plt.title(class_names[labels[i]])\n",
    "        plt.axis(\"off\")"
   ]
  },
  {
   "cell_type": "code",
   "execution_count": 25,
   "metadata": {
    "collapsed": false
   },
   "outputs": [
    {
     "data": {
      "text/plain": [
       "0"
      ]
     },
     "execution_count": 25,
     "metadata": {},
     "output_type": "execute_result"
    }
   ],
   "source": [
    "class_names['Healthy']"
   ]
  },
  {
   "cell_type": "code",
   "execution_count": 12,
   "metadata": {
    "collapsed": false
   },
   "outputs": [
    {
     "name": "stderr",
     "output_type": "stream",
     "text": [
      "2022-07-31 13:08:00.703900: I tensorflow/core/common_runtime/pluggable_device/pluggable_device_factory.cc:305] Could not identify NUMA node of platform GPU ID 0, defaulting to 0. Your kernel may not have been built with NUMA support.\n",
      "2022-07-31 13:08:00.704911: I tensorflow/core/common_runtime/pluggable_device/pluggable_device_factory.cc:271] Created TensorFlow device (/job:localhost/replica:0/task:0/device:GPU:0 with 0 MB memory) -> physical PluggableDevice (device: 0, name: METAL, pci bus id: <undefined>)\n"
     ]
    },
    {
     "name": "stdout",
     "output_type": "stream",
     "text": [
      "Metal device set to: Apple M1\n"
     ]
    }
   ],
   "source": [
    "# ARchitect the model\n",
    "\n",
    "model = tf.keras.models.Sequential()\n",
    "\n",
    "#Convolution Layer\n",
    "#================================================================================================================================================\n",
    "#First Convolution Layer\n",
    "\n",
    "#Conv2D(noFeatureMap, kernelShape, inputShape, activation, padding) Here same means add one pad layer\n",
    "\n",
    "model.add(tf.keras.layers.Conv2D(32 , (3,3) , input_shape= trainImageData.image_shape , activation= 'relu' , padding='same' )) #Convolve\n",
    "model.add(tf.keras.layers.MaxPooling2D(pool_size=(2,2))) #Pooling \n",
    "\n",
    "#Second Convolution Layer\n",
    "\n",
    "#Conv2D(noFeatureMap, kernelShape, inputShape, activation, padding) Here same means add one pad layer\n",
    "\n",
    "model.add(tf.keras.layers.Conv2D(16 , (3,3), activation= 'relu' , padding='same' )) #Convolve\n",
    "model.add(tf.keras.layers.MaxPooling2D(pool_size=(2,2))) #Pooling \n",
    "\n",
    "#=================================================================================================================================================\n",
    "# Flatten\n",
    "\n",
    "model.add(tf.keras.layers.Flatten())\n",
    "\n",
    "#=================================================================================================================================================\n",
    "# ANN\n",
    "model.add(tf.keras.layers.Dense(units= 4096 , activation=\"relu\"))\n",
    "model.add(tf.keras.layers.Dropout(0.2))\n",
    "model.add(tf.keras.layers.Dense(units= 1024, activation=\"relu\"))\n",
    "model.add(tf.keras.layers.Dropout(0.2))\n",
    "model.add(tf.keras.layers.Dense(units= 256, activation=\"relu\"))\n",
    "model.add(tf.keras.layers.Dense(units= 1 , activation=\"sigmoid\"))"
   ]
  },
  {
   "cell_type": "code",
   "execution_count": 13,
   "metadata": {
    "collapsed": false
   },
   "outputs": [
    {
     "name": "stdout",
     "output_type": "stream",
     "text": [
      "Model: \"sequential\"\n",
      "_________________________________________________________________\n",
      " Layer (type)                Output Shape              Param #   \n",
      "=================================================================\n",
      " conv2d (Conv2D)             (None, 64, 64, 32)        896       \n",
      "                                                                 \n",
      " max_pooling2d (MaxPooling2D  (None, 32, 32, 32)       0         \n",
      " )                                                               \n",
      "                                                                 \n",
      " conv2d_1 (Conv2D)           (None, 32, 32, 16)        4624      \n",
      "                                                                 \n",
      " max_pooling2d_1 (MaxPooling  (None, 16, 16, 16)       0         \n",
      " 2D)                                                             \n",
      "                                                                 \n",
      " flatten (Flatten)           (None, 4096)              0         \n",
      "                                                                 \n",
      " dense (Dense)               (None, 4096)              16781312  \n",
      "                                                                 \n",
      " dropout (Dropout)           (None, 4096)              0         \n",
      "                                                                 \n",
      " dense_1 (Dense)             (None, 1024)              4195328   \n",
      "                                                                 \n",
      " dropout_1 (Dropout)         (None, 1024)              0         \n",
      "                                                                 \n",
      " dense_2 (Dense)             (None, 256)               262400    \n",
      "                                                                 \n",
      " dense_3 (Dense)             (None, 1)                 257       \n",
      "                                                                 \n",
      "=================================================================\n",
      "Total params: 21,244,817\n",
      "Trainable params: 21,244,817\n",
      "Non-trainable params: 0\n",
      "_________________________________________________________________\n"
     ]
    }
   ],
   "source": [
    "model.summary()"
   ]
  },
  {
   "cell_type": "code",
   "execution_count": 14,
   "metadata": {
    "collapsed": true
   },
   "outputs": [],
   "source": [
    "#Compile\n",
    "\n",
    "model.compile(optimizer=\"rmsprop\",\n",
    "              loss=\"categorical_crossentropy\",\n",
    "              metrics=['accuracy'])"
   ]
  },
  {
   "cell_type": "code",
   "execution_count": 18,
   "metadata": {
    "collapsed": false
   },
   "outputs": [
    {
     "name": "stdout",
     "output_type": "stream",
     "text": [
      "Epoch 1/10\n",
      "7/7 [==============================] - ETA: 0s - loss: 1.5535 - accuracy: 0.6469"
     ]
    },
    {
     "name": "stderr",
     "output_type": "stream",
     "text": [
      "2022-07-31 13:19:12.933592: I tensorflow/core/grappler/optimizers/custom_graph_optimizer_registry.cc:113] Plugin optimizer for device_type GPU is enabled.\n"
     ]
    },
    {
     "name": "stdout",
     "output_type": "stream",
     "text": [
      "7/7 [==============================] - 7s 702ms/step - loss: 1.5535 - accuracy: 0.6469 - val_loss: 1.2988 - val_accuracy: 0.6667\n",
      "Epoch 2/10\n",
      "7/7 [==============================] - 5s 739ms/step - loss: 1.0719 - accuracy: 0.6743 - val_loss: 1.1035 - val_accuracy: 0.6667\n",
      "Epoch 3/10\n",
      "7/7 [==============================] - 5s 753ms/step - loss: 1.1089 - accuracy: 0.6667 - val_loss: 1.1192 - val_accuracy: 0.6667\n",
      "Epoch 4/10\n",
      "7/7 [==============================] - 5s 737ms/step - loss: 1.0423 - accuracy: 0.6667 - val_loss: 1.1415 - val_accuracy: 0.6198\n",
      "Epoch 5/10\n",
      "7/7 [==============================] - 5s 740ms/step - loss: 1.1745 - accuracy: 0.6423 - val_loss: 1.1304 - val_accuracy: 0.3333\n",
      "Epoch 6/10\n",
      "7/7 [==============================] - 5s 710ms/step - loss: 1.0815 - accuracy: 0.5753 - val_loss: 1.1047 - val_accuracy: 0.6302\n",
      "Epoch 7/10\n",
      "7/7 [==============================] - 5s 745ms/step - loss: 1.1058 - accuracy: 0.5845 - val_loss: 1.1039 - val_accuracy: 0.5885\n",
      "Epoch 8/10\n",
      "7/7 [==============================] - 5s 726ms/step - loss: 0.9783 - accuracy: 0.6804 - val_loss: 1.5795 - val_accuracy: 0.5729\n",
      "Epoch 9/10\n",
      "7/7 [==============================] - 5s 735ms/step - loss: 1.0131 - accuracy: 0.6210 - val_loss: 1.1623 - val_accuracy: 0.5938\n",
      "Epoch 10/10\n",
      "7/7 [==============================] - 5s 729ms/step - loss: 0.9033 - accuracy: 0.6712 - val_loss: 2.0572 - val_accuracy: 0.3490\n"
     ]
    },
    {
     "data": {
      "text/plain": [
       "<keras.callbacks.History at 0x29354f250>"
      ]
     },
     "execution_count": 18,
     "metadata": {},
     "output_type": "execute_result"
    }
   ],
   "source": [
    "# Fit the model\n",
    "\n",
    "model.fit(trainImageData,\n",
    "          validation_data=testImageData,\n",
    "          epochs=10,\n",
    "          steps_per_epoch = len(trainImageData.filenames) // trainImageData.batch_size,\n",
    "          validation_steps= len(testImageData.filenames) // testImageData.batch_size)"
   ]
  },
  {
   "cell_type": "code",
   "execution_count": null,
   "metadata": {
    "collapsed": true
   },
   "outputs": [],
   "source": []
  }
 ],
 "metadata": {
  "kernelspec": {
   "display_name": "python 3.10(tensor_env)",
   "language": "python",
   "name": "tensorflow"
  },
  "language_info": {
   "codemirror_mode": {
    "name": "ipython",
    "version": 3
   },
   "file_extension": ".py",
   "mimetype": "text/x-python",
   "name": "python",
   "nbconvert_exporter": "python",
   "pygments_lexer": "ipython3",
   "version": "3.10.5"
  }
 },
 "nbformat": 4,
 "nbformat_minor": 1
}
